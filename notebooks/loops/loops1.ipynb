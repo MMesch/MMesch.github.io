{
 "cells": [
  {
   "cell_type": "markdown",
   "id": "8c68d9fc-e6e7-4a75-94ed-e7085c022d62",
   "metadata": {
    "tags": []
   },
   "source": [
    "## Loops as we love (?) them in the imperative world\n",
    "\n",
    "### looping infinitely\n",
    "\n",
    "Loops are used to repeatedly run a task in imperative programming. There are many ways to express such repetition, and each programming language seems to provide different ways to enter a loop. For example, in Python you can do it like this:\n",
    "\n",
    "```python\n",
    "while True:\n",
    "   print(\"infinite loop\")\n",
    "```\n",
    "\n",
    "As soon as the program enters this statement, it will start repeating the print statement in an infinite loop. But we rarely run infinite loops. Somehow we need to stop and step out after some time.\n",
    "\n",
    "### breaking the loop\n",
    "\n",
    "To step out of a loop, Python provides a keyword `break` that is often triggered by a condition. The following snippet repeatedly asks the user for an input number and breaks if it greater or equal than 5:"
   ]
  },
  {
   "cell_type": "code",
   "execution_count": 1,
   "id": "ca7bd7a8-a93c-46f8-a072-732ffde526c7",
   "metadata": {},
   "outputs": [
    {
     "name": "stdin",
     "output_type": "stream",
     "text": [
      "please enter a number:  3\n"
     ]
    },
    {
     "name": "stdout",
     "output_type": "stream",
     "text": [
      "3\n"
     ]
    },
    {
     "name": "stdin",
     "output_type": "stream",
     "text": [
      "please enter a number:  2\n"
     ]
    },
    {
     "name": "stdout",
     "output_type": "stream",
     "text": [
      "2\n"
     ]
    },
    {
     "name": "stdin",
     "output_type": "stream",
     "text": [
      "please enter a number:  5\n"
     ]
    },
    {
     "name": "stdout",
     "output_type": "stream",
     "text": [
      "5\n"
     ]
    }
   ],
   "source": [
    "while True:\n",
    "    x = int(input(\"please enter a number: \"))\n",
    "    print(x)\n",
    "    if x >= 5:\n",
    "        break"
   ]
  },
  {
   "cell_type": "markdown",
   "id": "600a2e63-fe4e-4056-8db0-69714c03efb2",
   "metadata": {},
   "source": [
    "Because breaking our loop at some point is such a common pattern, Python's `while` keyword has this already built-in and we can simplify the above snippet like this:"
   ]
  },
  {
   "cell_type": "code",
   "execution_count": 2,
   "id": "43493ffe-c2c2-40f5-b97e-f61e679686c7",
   "metadata": {},
   "outputs": [
    {
     "name": "stdin",
     "output_type": "stream",
     "text": [
      "please enter a number:  3\n"
     ]
    },
    {
     "name": "stdout",
     "output_type": "stream",
     "text": [
      "3\n"
     ]
    },
    {
     "name": "stdin",
     "output_type": "stream",
     "text": [
      "please enter a number:  2\n"
     ]
    },
    {
     "name": "stdout",
     "output_type": "stream",
     "text": [
      "2\n"
     ]
    },
    {
     "name": "stdin",
     "output_type": "stream",
     "text": [
      "please enter a number:  5\n"
     ]
    },
    {
     "name": "stdout",
     "output_type": "stream",
     "text": [
      "5\n"
     ]
    }
   ],
   "source": [
    "x = 0\n",
    "while x < 5:\n",
    "    x = int(input(\"please enter a number: \"))\n",
    "    print(x)"
   ]
  },
  {
   "cell_type": "markdown",
   "id": "af95acbc-e2fd-4036-88ed-58585a0d06be",
   "metadata": {},
   "source": [
    "Note that we had to define `x` outside of the loop because the condition is checked when we enter the `while` statement. Visually this looks like this:\n",
    "\n",
    "![loop illustration](./images/loop1-1.svg)\n",
    "\n",
    "### modifying state\n",
    "\n",
    "We often want to compute something in a loop and assign the resulting value of the computation to a variable, as we did with `x`. We call `x` the `state` that the loop modifies while iterating through statements. A light adaptation of the example before is this:"
   ]
  },
  {
   "cell_type": "code",
   "execution_count": 3,
   "id": "1c3ad28a-e037-44ff-baf6-06812e1ed262",
   "metadata": {},
   "outputs": [
    {
     "name": "stdout",
     "output_type": "stream",
     "text": [
      "5\n"
     ]
    }
   ],
   "source": [
    "x = 0 \n",
    "while x < 5:\n",
    "    x = x + 1\n",
    "print(x)"
   ]
  },
  {
   "cell_type": "markdown",
   "id": "94798a66-2ac4-449e-aeb5-df13a7d118d0",
   "metadata": {},
   "source": [
    "If we need more state than just an index, we would also define it outside of the loop. In the following example, we compute a number and store it in a list `l`:"
   ]
  },
  {
   "cell_type": "code",
   "execution_count": 4,
   "id": "c6b1487a-ae34-432c-b30d-2816e4d78ffa",
   "metadata": {},
   "outputs": [
    {
     "name": "stdout",
     "output_type": "stream",
     "text": [
      "[0, 2, 4, 6, 8, 10, 12, 14, 16, 18]\n"
     ]
    }
   ],
   "source": [
    "l = []\n",
    "i = 0\n",
    "while i < 10:\n",
    "    l += [2*i]\n",
    "    i += 1\n",
    "print(l)"
   ]
  },
  {
   "cell_type": "markdown",
   "id": "6fbd7cae-b81e-49ce-9418-18b8ee331fd0",
   "metadata": {},
   "source": [
    "We can also store the list and integer in the above snippet in a single state variable showing that conceptually there is not much difference between modifying one or many variables out of a loop:"
   ]
  },
  {
   "cell_type": "code",
   "execution_count": 5,
   "id": "031df646-55ec-43fb-a525-cdef1df74a6e",
   "metadata": {},
   "outputs": [
    {
     "name": "stdout",
     "output_type": "stream",
     "text": [
      "(1, [0])\n",
      "(2, [0, 2])\n",
      "(3, [0, 2, 4])\n",
      "(4, [0, 2, 4, 6])\n",
      "(5, [0, 2, 4, 6, 8])\n",
      "(6, [0, 2, 4, 6, 8, 10])\n",
      "(7, [0, 2, 4, 6, 8, 10, 12])\n",
      "(8, [0, 2, 4, 6, 8, 10, 12, 14])\n",
      "(9, [0, 2, 4, 6, 8, 10, 12, 14, 16])\n",
      "(10, [0, 2, 4, 6, 8, 10, 12, 14, 16, 18])\n"
     ]
    }
   ],
   "source": [
    "state = (0, [])\n",
    "while state[0] < 10:\n",
    "    state = (state[0] + 1,\n",
    "             state[1] + [2*state[0]])\n",
    "    print(state)"
   ]
  },
  {
   "cell_type": "markdown",
   "id": "b6eb17fa-46f2-4377-af8e-d110491eb9f3",
   "metadata": {},
   "source": [
    "Therefore, no matter whether it is indices, accumulators such as the list or the integer sum, it always falls into the same category of manipulating state.\n",
    "\n",
    "### looping through collections with for\n",
    "\n",
    "In addition to `while` loops, we also see a lot of `for` loops in programming languages like Python. A `for` loop brings nothing new because it can easily be converted to a `while` loop. The reason it is used so often, is because it manages the ubiquitous use case of looping through elements of an iterable data structure such as a list for us:"
   ]
  },
  {
   "cell_type": "code",
   "execution_count": 6,
   "id": "defb7944-bbce-41a4-a85a-bb5ce483e465",
   "metadata": {},
   "outputs": [
    {
     "name": "stdout",
     "output_type": "stream",
     "text": [
      "a\n",
      "b\n",
      "c\n"
     ]
    }
   ],
   "source": [
    "for c in ['a', 'b', 'c']:\n",
    "    print(c)"
   ]
  },
  {
   "cell_type": "markdown",
   "id": "e7d567e0-70e4-44e4-8c1c-5b09a89b646b",
   "metadata": {},
   "source": [
    "Writing this as a while loop is a bit clunky. Also, notice that we don't need to declare the `c` variable outside of the loop. `c` _looks_ like local state neatly confined to the `for` block where it is needed (in Python it actually is accesible from outside after the loop has been executed).\n",
    "\n",
    "## Statements and side effects\n",
    "\n",
    "Keyword statements, such as `while`, `for`, `break`, and `continue` that control loops, are special in Python: They are always available without import, and the programmer has to know all `35` that Python (v3.8) has. They are protected names that you can't _use_ for a variable as in `break = 5`, and they are different from expressions that can be _assigned_ to a variable as in `a = break`. The thought comes up whether we _need_ to have special statements for loops or whether we cannot express them just as a normal Python expressions with the other programming machinery that Python has to offer.\n",
    "\n",
    "But more troubling is that loops like the ones above have no return value. They are statements, actions that are executed imperatively, but not expressions that can be evaluated, assigned to a variable and passed as arguments to functions. This severely limits how loops can be used. But, although there is no return value, of course something happens when running a loop. Instead of evaluating to a value, loops perform _side effects_, they execute statements that modify something somewhere else, such as the characters printed on the screen or the value of a variable declared outside of the loop. A `while` or `for` loop without side effect simply has no effect at all.\n",
    "\n",
    "What's so bad about side effects? To understand this, let's go back in time. Before `while` and `for`, loops were often written as `goto start if condition else continue`. Arguably this is a simpler expression than learning special syntax for `while` and `for`. However, `goto` led to so-called _spaghetti code_ and was therefore heavily critized and banned from many programming languages. Programs with `goto` were jumping around lines so much that it became very difficult to understand what was going on (a chaotic map of slices and dices rather than any regular topology). The structured programming movement advocated the programming with structured blocks instead, subroutine blocks, selection blocks - and iteration blocks such as `while`. These blocks would make sure to hold together what belongs together, disencouraging any uncontrolled long range jumps. Subroutines, for example, return control to the calling line after execution in contrast to `goto` statements that are one-directional.\n",
    "\n",
    "But `while` still _has_ strange long range interactions: the side effects that we talked about. For the same reasons that the structural programming movement wanted to get rid of `goto`, the purely functional programming community tries to get rid of such side effects (or at least wrapping them in a special construct limiting their reach). Getting rid of side effects also has the advantage that everything becomes an expression (even a print statement) as we will see, and thus amenable to be used with variables, as arguments to functions and so on. This gives enormous power to the programmer. This is what we will explore in this series.\n",
    "\n",
    "## Converting loops to expressions\n",
    "\n",
    "In fact, already in Python, a multi-paradigm language, statements with side effects can sometimes also be written as expressions without. Consider the following example related to the `if:` and `else:` statements:"
   ]
  },
  {
   "cell_type": "code",
   "execution_count": 7,
   "id": "ff689c0e-7dcd-48e1-8a16-afbc787f18ad",
   "metadata": {},
   "outputs": [
    {
     "name": "stdout",
     "output_type": "stream",
     "text": [
      "It's Bob!\n"
     ]
    }
   ],
   "source": [
    "name = \"Bob\"\n",
    "if name == \"Bob\":\n",
    "    print(\"It's Bob!\")\n",
    "else:\n",
    "    print(\"It's not Bob!\")"
   ]
  },
  {
   "cell_type": "markdown",
   "id": "8a9db42b-897d-419b-b970-1ccabdf0b0b7",
   "metadata": {},
   "source": [
    "As in the loops above, `if: else:` doesn't have a return value here and runs side effects (printing twice). But the same statement can also be written as an expression with a return value:"
   ]
  },
  {
   "cell_type": "code",
   "execution_count": 8,
   "id": "cffd978a-7613-48d4-a1d1-4d75a4c926dd",
   "metadata": {},
   "outputs": [
    {
     "name": "stdout",
     "output_type": "stream",
     "text": [
      "It's Bob!\n"
     ]
    }
   ],
   "source": [
    "name = \"Bob\"\n",
    "print(\"It's Bob!\" if name == \"Bob\" else \"It's not Bob!\")"
   ]
  },
  {
   "cell_type": "markdown",
   "id": "0ff84d99-d9b9-451e-87c6-c555f7f4aa86",
   "metadata": {},
   "source": [
    "We have transformed the `if: else:` statements into an `if else` expression which can be evaluated and thus used directly as an argument to `print`. This version is more compact but more importantly, the `if else` expression has no side effect anymore.\n",
    "\n",
    "Python also has a technique, called _list comprehension_ to write certain loops as expression. Consider, for example, the following loop that mutates the list `l` with a side effect:"
   ]
  },
  {
   "cell_type": "code",
   "execution_count": 9,
   "id": "a977e7ce-3e95-497a-918d-90068b1ff37c",
   "metadata": {},
   "outputs": [
    {
     "name": "stdout",
     "output_type": "stream",
     "text": [
      "[0, 1, 4, 9, 16, 25, 36, 49, 64, 81]\n"
     ]
    }
   ],
   "source": [
    "l = []\n",
    "for i in range(10):\n",
    "    l.append(i ** 2)\n",
    "print(l)"
   ]
  },
  {
   "cell_type": "markdown",
   "id": "8fc507dc-f433-4fc5-a074-c5ea16facdd2",
   "metadata": {},
   "source": [
    "It can be written equally like this without any side effect:"
   ]
  },
  {
   "cell_type": "code",
   "execution_count": 10,
   "id": "cb39d5da-ba57-4256-898a-702995cd7b44",
   "metadata": {},
   "outputs": [
    {
     "name": "stdout",
     "output_type": "stream",
     "text": [
      "[0, 1, 4, 9, 16, 25, 36, 49, 64, 81]\n"
     ]
    }
   ],
   "source": [
    "l = [i**2 for i in range(10)]\n",
    "print(l)"
   ]
  },
  {
   "cell_type": "markdown",
   "id": "b8c7191b-4f96-4fb2-9c12-ddf5f6590d28",
   "metadata": {},
   "source": [
    "Python has a similar tool for dictionaries:"
   ]
  },
  {
   "cell_type": "code",
   "execution_count": 11,
   "id": "2016d3fb-dfa0-4c86-a13d-632cf1b1446b",
   "metadata": {},
   "outputs": [
    {
     "name": "stdout",
     "output_type": "stream",
     "text": [
      "{'0': 0, '1': 1, '2': 4, '3': 9, '4': 16, '5': 25, '6': 36, '7': 49, '8': 64, '9': 81}\n"
     ]
    }
   ],
   "source": [
    "d = {\"{:d}\".format(i): i**2 for i in range(10)}\n",
    "print(d)"
   ]
  },
  {
   "cell_type": "markdown",
   "id": "4c2c85b6-8b7c-476a-b124-d1782d252bc3",
   "metadata": {},
   "source": [
    "All of these examples show, that we can express loops without `for` or `while` statements and side effects in very elegant ways. List and dictionary comprehension immediately make it clear to which variable the computation in a loop is assigned to. However, we have only dealt with the side effect of modifying state in these examples. Can we do something similar with an IO side effect such as printing to the console? Let's have a look:"
   ]
  },
  {
   "cell_type": "code",
   "execution_count": 12,
   "id": "8ddfd9b7-e0e5-4082-bafe-2af4adb39682",
   "metadata": {},
   "outputs": [
    {
     "name": "stdout",
     "output_type": "stream",
     "text": [
      "0\n",
      "1\n",
      "2\n",
      "[None, None, None]\n"
     ]
    }
   ],
   "source": [
    "d = [print(i) for i in range(3)]\n",
    "print(d)"
   ]
  },
  {
   "cell_type": "markdown",
   "id": "f424ba8e-119d-4a8a-9b05-b34c8ae5c867",
   "metadata": {},
   "source": [
    "This example is somewhat troubling but insightful. We see that the print side effect is _not_ captured in the d variable and escapes our list comprehension. How would we store a print action in a variable? It turns out that if you think this further, you'll quickly get to something that resembles purely functional programming languages like Haskell/Elm/Purescript. In this series we will show how they use IO types to stay side-effect free and go through many more possibilities to express loops beyond what Python can express.\n",
    "\n",
    "## Techniques that we'll explore in this series\n",
    "\n",
    "First, although it is often _not_ the most elegant and concise way, we will show how to express loops side-effect-free through recursion, as a chain of nested function calls. A loop like `for i in range(3): print(i)` becomes `f(f(f(0)))`, where each function prints its argument and then increases it by `1` before passing it on to the next call. There is a simple recipe to translate loops to such recursive functions calls. However, recursion is more general and can express much more. For example, we could recurse twice instead of once inside of a function, which would correspond to looping through a tree structure. Understanding the correspondence between loops and recursion is conceptually extremely helpful to understand other techniques.\n",
    "\n",
    "The next thing, still more on the conceptual side, we will look at a higher order function called `fix` that can make non-recursive function recurse, somewhat similar to `while` that makes a statement repeat.\n",
    "\n",
    "Finally, with this background, we'll get into more practical, concise every-day techniques that are used in functional programming, such as list comprehensions and its generalization called monad comprehensions, `folds` that allow passing state from one step to the next, and into a generalization of these techniques called `recursion` schemes that allow to loop through more complex data structures such as trees.\n",
    "\n",
    "That's it for post number 1"
   ]
  }
 ],
 "metadata": {
  "kernelspec": {
   "display_name": "Python3 - Python-env",
   "language": "python",
   "name": "ipython_python-env"
  },
  "language_info": {
   "codemirror_mode": {
    "name": "ipython",
    "version": 3
   },
   "file_extension": ".py",
   "mimetype": "text/x-python",
   "name": "python",
   "nbconvert_exporter": "python",
   "pygments_lexer": "ipython3",
   "version": "3.9.6"
  }
 },
 "nbformat": 4,
 "nbformat_minor": 5
}
